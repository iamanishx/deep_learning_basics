{
  "cells": [
    {
      "cell_type": "markdown",
      "metadata": {
        "id": "lfrj3GsDIVQC"
      },
      "source": [
        "1. starting of deep_learning : 23-07-2025"
      ]
    },
    {
      "cell_type": "markdown",
      "metadata": {},
      "source": [
        "## What are Tensors?\n",
        "Tensors are the fundamental data structure in PyTorch, similar to arrays in NumPy but with additional capabilities for GPU acceleration and automatic differentiation.\n",
        "\n",
        "Tensors are used to represent data in deep learning, such as images, text, or audio. They can have different dimensions:\n",
        "- **Scalar**: 0-dimensional tensor (a single number)\n",
        "- **Vector**: 1-dimensional tensor (a list of numbers)\n",
        "- **Matrix**: 2-dimensional tensor (a table of numbers)\n",
        "- **Higher-dimensional tensor**: 3D or more, often used for images or batches of data.\n",
        "\n",
        "### Why are Tensors Important?\n",
        "- They allow efficient computation on both CPUs and GPUs.\n",
        "- They support automatic differentiation, which is essential for training deep learning models.\n",
        "- They provide a flexible way to manipulate and transform data.\n",
        "\n",
        "In this notebook, we'll explore various tensor operations and properties to build a strong foundation for working with PyTorch."
      ]
    },
    {
      "cell_type": "code",
      "execution_count": 1,
      "metadata": {
        "colab": {
          "base_uri": "https://localhost:8080/"
        },
        "id": "8Tp34O0mG6as",
        "outputId": "69375226-9ab7-4897-b085-5b26a3e4f79b"
      },
      "outputs": [
        {
          "name": "stdout",
          "output_type": "stream",
          "text": [
            "2.6.0+cu124\n"
          ]
        }
      ],
      "source": [
        "import torch\n",
        "import pandas as pd\n",
        "import numpy as np\n",
        "import matplotlib.pyplot as plt\n",
        "\n",
        "print(torch.__version__)"
      ]
    },
    {
      "cell_type": "markdown",
      "metadata": {
        "id": "h4_pQ8CAKGsK"
      },
      "source": [
        "## intro to tensors\n",
        "https://docs.pytorch.org/docs/stable/tensors.html\n",
        "### creating tensors\n"
      ]
    },
    {
      "cell_type": "code",
      "execution_count": null,
      "metadata": {},
      "outputs": [],
      "source": [
        "# Demonstrating unique tensor operations\n",
        "import torch\n",
        "a = torch.tensor([1.0, 2.0, 3.0], requires_grad=True)\n",
        "b = a.clone()  # Clone the tensor\n",
        "c = a.detach()  # Detach from computation graph\n",
        "print('Original:', a)\n",
        "print('Cloned:', b)\n",
        "print('Detached:', c)\n",
        "\n",
        "# In-place operation\n",
        "b.add_(5)\n",
        "print('After in-place add_:', b)\n",
        "\n",
        "# Broadcasting example\n",
        "x = torch.ones(3, 1)\n",
        "y = torch.ones(1, 4)\n",
        "broadcasted = x + y\n",
        "print('Broadcasted shape:', broadcasted.shape)\n",
        "\n",
        "# Type casting\n",
        "int_tensor = torch.tensor([1, 2, 3])\n",
        "float_tensor = int_tensor.float()\n",
        "print('Float tensor:', float_tensor)"
      ]
    },
    {
      "cell_type": "markdown",
      "metadata": {},
      "source": [
        "## More About Tensors: Advanced Operations\n",
        "Let's go beyond the basics and explore some additional tensor operations that are very useful in practice. These will help make your notebook more unique and deepen your understanding of tensors.\n",
        "\n",
        "### 1. Cloning and Detaching Tensors\n",
        "- `tensor.clone()` creates a copy of a tensor that does not share memory with the original.\n",
        "- `tensor.detach()` creates a tensor that shares storage with the original but without tracking gradients.\n",
        "\n",
        "### 2. In-place Operations\n",
        "- In PyTorch, operations ending with an underscore (e.g., `add_`, `mul_`) modify the tensor in place, saving memory but requiring caution.\n",
        "\n",
        "### 3. Broadcasting\n",
        "- PyTorch supports broadcasting, which allows arithmetic operations on tensors of different shapes, following specific rules.\n",
        "\n",
        "### 4. Type Casting\n",
        "- You can easily convert tensors between data types using methods like `float()`, `long()`, or `to(dtype=torch.float32)`.\n"
      ]
    },
    {
      "cell_type": "code",
      "execution_count": 2,
      "metadata": {
        "colab": {
          "base_uri": "https://localhost:8080/"
        },
        "id": "K0Hu05WwKPZ1",
        "outputId": "e0d87f9e-4030-4b66-9786-af9cfffb7a08"
      },
      "outputs": [
        {
          "data": {
            "text/plain": [
              "tensor(7)"
            ]
          },
          "execution_count": 2,
          "metadata": {},
          "output_type": "execute_result"
        }
      ],
      "source": [
        "#scalar\n",
        "scalar = torch.tensor(7)\n",
        "scalar"
      ]
    },
    {
      "cell_type": "code",
      "execution_count": 3,
      "metadata": {
        "colab": {
          "base_uri": "https://localhost:8080/"
        },
        "id": "ua76FwZbKvCh",
        "outputId": "f07c2ec0-deff-41c4-ee32-585e54ecb9ad"
      },
      "outputs": [
        {
          "data": {
            "text/plain": [
              "0"
            ]
          },
          "execution_count": 3,
          "metadata": {},
          "output_type": "execute_result"
        }
      ],
      "source": [
        "scalar.ndim"
      ]
    },
    {
      "cell_type": "code",
      "execution_count": 4,
      "metadata": {
        "colab": {
          "base_uri": "https://localhost:8080/"
        },
        "id": "ttCLaOyASLjw",
        "outputId": "38f7ca84-e9d5-471f-8537-c1d1d3040e1e"
      },
      "outputs": [
        {
          "data": {
            "text/plain": [
              "7"
            ]
          },
          "execution_count": 4,
          "metadata": {},
          "output_type": "execute_result"
        }
      ],
      "source": [
        "#get tensor as a normal pt int\n",
        "scalar.item()"
      ]
    },
    {
      "cell_type": "code",
      "execution_count": 5,
      "metadata": {
        "colab": {
          "base_uri": "https://localhost:8080/"
        },
        "id": "5-UnfZQLSQzk",
        "outputId": "8d83ec06-cf34-4069-f471-dc03efd429d8"
      },
      "outputs": [
        {
          "data": {
            "text/plain": [
              "tensor([7, 7])"
            ]
          },
          "execution_count": 5,
          "metadata": {},
          "output_type": "execute_result"
        }
      ],
      "source": [
        "vector = torch.tensor([7,7])\n",
        "vector"
      ]
    },
    {
      "cell_type": "code",
      "execution_count": 6,
      "metadata": {
        "colab": {
          "base_uri": "https://localhost:8080/"
        },
        "id": "3ZJUd_tNS5xS",
        "outputId": "49ab91a7-6cac-4c08-ee59-96aa31149dd6"
      },
      "outputs": [
        {
          "data": {
            "text/plain": [
              "1"
            ]
          },
          "execution_count": 6,
          "metadata": {},
          "output_type": "execute_result"
        }
      ],
      "source": [
        "vector.ndim\n"
      ]
    },
    {
      "cell_type": "code",
      "execution_count": 7,
      "metadata": {
        "colab": {
          "base_uri": "https://localhost:8080/"
        },
        "id": "L0z1JSGdTEBq",
        "outputId": "6c268876-173c-40d0-cd43-8d453cf1df5e"
      },
      "outputs": [
        {
          "data": {
            "text/plain": [
              "torch.Size([2])"
            ]
          },
          "execution_count": 7,
          "metadata": {},
          "output_type": "execute_result"
        }
      ],
      "source": [
        "vector.shape"
      ]
    },
    {
      "cell_type": "code",
      "execution_count": 8,
      "metadata": {
        "colab": {
          "base_uri": "https://localhost:8080/"
        },
        "id": "ggRpGyIGTJaw",
        "outputId": "fe91ffd8-851c-4b3c-a5b0-88f4790be20d"
      },
      "outputs": [
        {
          "data": {
            "text/plain": [
              "tensor([[ 7,  8],\n",
              "        [ 9, 10]])"
            ]
          },
          "execution_count": 8,
          "metadata": {},
          "output_type": "execute_result"
        }
      ],
      "source": [
        "# MATRIX\n",
        "MATRIX = torch.tensor([[7,8],\n",
        "                       [9,10]])\n",
        "MATRIX"
      ]
    },
    {
      "cell_type": "code",
      "execution_count": 9,
      "metadata": {
        "colab": {
          "base_uri": "https://localhost:8080/"
        },
        "id": "Wv11LpKfTQq3",
        "outputId": "f3124b39-590f-4a51-eb78-c476041192ef"
      },
      "outputs": [
        {
          "data": {
            "text/plain": [
              "2"
            ]
          },
          "execution_count": 9,
          "metadata": {},
          "output_type": "execute_result"
        }
      ],
      "source": [
        "MATRIX.ndim"
      ]
    },
    {
      "cell_type": "code",
      "execution_count": 10,
      "metadata": {
        "colab": {
          "base_uri": "https://localhost:8080/"
        },
        "id": "aV7ID-2CVaSB",
        "outputId": "797ae22d-1f1a-42e7-aff7-cbdeee9c0110"
      },
      "outputs": [
        {
          "data": {
            "text/plain": [
              "tensor([ 9, 10])"
            ]
          },
          "execution_count": 10,
          "metadata": {},
          "output_type": "execute_result"
        }
      ],
      "source": [
        "MATRIX[1]"
      ]
    },
    {
      "cell_type": "code",
      "execution_count": 11,
      "metadata": {
        "colab": {
          "base_uri": "https://localhost:8080/"
        },
        "id": "L7xLbEtAVdqb",
        "outputId": "4b5733d3-4dd7-46ae-a725-f327f5cd2bf4"
      },
      "outputs": [
        {
          "data": {
            "text/plain": [
              "torch.Size([2, 2])"
            ]
          },
          "execution_count": 11,
          "metadata": {},
          "output_type": "execute_result"
        }
      ],
      "source": [
        "MATRIX.shape"
      ]
    },
    {
      "cell_type": "code",
      "execution_count": 12,
      "metadata": {
        "colab": {
          "base_uri": "https://localhost:8080/"
        },
        "id": "FSNlemklWLRg",
        "outputId": "0c05f19a-a8d7-4f85-b235-b42359b1c704"
      },
      "outputs": [
        {
          "data": {
            "text/plain": [
              "tensor([[[1, 2, 3],\n",
              "         [4, 5, 6],\n",
              "         [7, 8, 9]]])"
            ]
          },
          "execution_count": 12,
          "metadata": {},
          "output_type": "execute_result"
        }
      ],
      "source": [
        "#TENSOR\n",
        "TENSOR = torch.tensor([[[1,2,3],\n",
        "                        [4,5,6],\n",
        "                        [7,8,9]]])\n",
        "TENSOR"
      ]
    },
    {
      "cell_type": "code",
      "execution_count": 13,
      "metadata": {
        "colab": {
          "base_uri": "https://localhost:8080/"
        },
        "id": "GBkhKoy3Wx2n",
        "outputId": "29b5d4c6-12d1-4a19-a3d5-6daf432bb292"
      },
      "outputs": [
        {
          "data": {
            "text/plain": [
              "3"
            ]
          },
          "execution_count": 13,
          "metadata": {},
          "output_type": "execute_result"
        }
      ],
      "source": [
        "TENSOR.ndim"
      ]
    },
    {
      "cell_type": "code",
      "execution_count": 14,
      "metadata": {
        "colab": {
          "base_uri": "https://localhost:8080/"
        },
        "id": "RDw7f9J0XIvn",
        "outputId": "af37fff9-42b7-4de6-d80d-6b564010ee8b"
      },
      "outputs": [
        {
          "data": {
            "text/plain": [
              "torch.Size([1, 3, 3])"
            ]
          },
          "execution_count": 14,
          "metadata": {},
          "output_type": "execute_result"
        }
      ],
      "source": [
        "TENSOR.shape"
      ]
    },
    {
      "cell_type": "code",
      "execution_count": 15,
      "metadata": {
        "colab": {
          "base_uri": "https://localhost:8080/"
        },
        "id": "R8Gh0l5rXOpJ",
        "outputId": "8f35b0cb-f462-44fb-a195-5fa054f29f54"
      },
      "outputs": [
        {
          "data": {
            "text/plain": [
              "tensor([[1, 2, 3],\n",
              "        [4, 5, 6],\n",
              "        [7, 8, 9]])"
            ]
          },
          "execution_count": 15,
          "metadata": {},
          "output_type": "execute_result"
        }
      ],
      "source": [
        "TENSOR[0]"
      ]
    },
    {
      "cell_type": "code",
      "execution_count": 15,
      "metadata": {
        "id": "ki6G-ZqhXhms"
      },
      "outputs": [],
      "source": []
    },
    {
      "cell_type": "markdown",
      "metadata": {
        "id": "MIPVztEkYrGs"
      },
      "source": [
        "## Random tensors\n",
        "https://docs.pytorch.org/docs/stable/generated/torch.rand.html\n",
        "### what is the need to random tensors ?\n",
        "Random tensors are used to **initialize model weights**, **simulate input data**, and **introduce noise or randomness** during training. They are essential for:\n",
        "\n",
        "- **Weight Initialization** – helps break symmetry in neural networks  \n",
        "- **Testing Models** – use random data before real inputs  \n",
        "- **Data Augmentation** – add random noise for robustness  \n",
        "- **Shuffling & Sampling** – select random batches from datasets  \n",
        "\n",
        "**Common functions:**\n",
        "- `torch.rand()` – random floats in [0, 1)  \n",
        "- `torch.randn()` – random values from a normal distribution  \n",
        "- `torch.randint()` – random integers in a range  "
      ]
    },
    {
      "cell_type": "code",
      "execution_count": 16,
      "metadata": {
        "colab": {
          "base_uri": "https://localhost:8080/"
        },
        "id": "LmagxjkKYxqc",
        "outputId": "d7f4a4bd-873a-4f05-fb34-9c0735115c32"
      },
      "outputs": [
        {
          "data": {
            "text/plain": [
              "tensor([[0.1348, 0.1863, 0.0131, 0.9764],\n",
              "        [0.7337, 0.8484, 0.4595, 0.4065],\n",
              "        [0.5887, 0.9724, 0.2828, 0.1056]])"
            ]
          },
          "execution_count": 16,
          "metadata": {},
          "output_type": "execute_result"
        }
      ],
      "source": [
        "# Create a random tensors of size(3,4)\n",
        "random_tensor = torch.rand(3,4)\n",
        "random_tensor"
      ]
    },
    {
      "cell_type": "code",
      "execution_count": 17,
      "metadata": {
        "colab": {
          "base_uri": "https://localhost:8080/"
        },
        "id": "-lvnQeMIZhXr",
        "outputId": "ed8d1122-d833-4944-dde0-b00950b206a9"
      },
      "outputs": [
        {
          "data": {
            "text/plain": [
              "2"
            ]
          },
          "execution_count": 17,
          "metadata": {},
          "output_type": "execute_result"
        }
      ],
      "source": [
        "random_tensor.ndim"
      ]
    },
    {
      "cell_type": "code",
      "execution_count": 18,
      "metadata": {
        "colab": {
          "base_uri": "https://localhost:8080/"
        },
        "id": "obwy4kHUadce",
        "outputId": "b7f8153f-d3e5-4147-a228-8a837251094e"
      },
      "outputs": [
        {
          "data": {
            "text/plain": [
              "(torch.Size([3, 224, 224]), 3)"
            ]
          },
          "execution_count": 18,
          "metadata": {},
          "output_type": "execute_result"
        }
      ],
      "source": [
        "random_image_size_tensor = torch.rand(size=(3, 224,224))\n",
        "random_image_size_tensor.shape, random_image_size_tensor.ndim"
      ]
    },
    {
      "cell_type": "code",
      "execution_count": 18,
      "metadata": {
        "id": "vF6mlLWtbSQM"
      },
      "outputs": [],
      "source": []
    },
    {
      "cell_type": "markdown",
      "metadata": {
        "id": "RVx-7e_4bxg0"
      },
      "source": [
        "## Zeros and ones\n"
      ]
    },
    {
      "cell_type": "code",
      "execution_count": 19,
      "metadata": {
        "colab": {
          "base_uri": "https://localhost:8080/"
        },
        "id": "VmTAT4Egb1u3",
        "outputId": "4be84dcd-e262-4cd4-e8a5-61da359e4415"
      },
      "outputs": [
        {
          "data": {
            "text/plain": [
              "tensor([[0., 0., 0., 0.],\n",
              "        [0., 0., 0., 0.],\n",
              "        [0., 0., 0., 0.]])"
            ]
          },
          "execution_count": 19,
          "metadata": {},
          "output_type": "execute_result"
        }
      ],
      "source": [
        "# Create a tensor of all zeros\n",
        "zeros = torch.zeros(size=(3,4))\n",
        "zeros"
      ]
    },
    {
      "cell_type": "code",
      "execution_count": 20,
      "metadata": {
        "colab": {
          "base_uri": "https://localhost:8080/"
        },
        "id": "uR1ojj3Fb_lb",
        "outputId": "36267bda-3047-4dc7-fe69-dfe07e980069"
      },
      "outputs": [
        {
          "data": {
            "text/plain": [
              "tensor([[0., 0., 0., 0.],\n",
              "        [0., 0., 0., 0.],\n",
              "        [0., 0., 0., 0.]])"
            ]
          },
          "execution_count": 20,
          "metadata": {},
          "output_type": "execute_result"
        }
      ],
      "source": [
        "zeros*random_tensor"
      ]
    },
    {
      "cell_type": "code",
      "execution_count": 21,
      "metadata": {
        "colab": {
          "base_uri": "https://localhost:8080/"
        },
        "id": "5uSbA58YcIts",
        "outputId": "781e2a53-cc94-48ee-b53a-c93d3f406d7d"
      },
      "outputs": [
        {
          "data": {
            "text/plain": [
              "tensor([[1., 1., 1., 1.],\n",
              "        [1., 1., 1., 1.],\n",
              "        [1., 1., 1., 1.]])"
            ]
          },
          "execution_count": 21,
          "metadata": {},
          "output_type": "execute_result"
        }
      ],
      "source": [
        "# create a tensors of all ones\n",
        "ones = torch.ones(size=(3,4))\n",
        "ones"
      ]
    },
    {
      "cell_type": "code",
      "execution_count": 22,
      "metadata": {
        "colab": {
          "base_uri": "https://localhost:8080/"
        },
        "id": "nbNsOYiJcd8t",
        "outputId": "9a28b9b4-72c1-4963-c4c8-fd23efd89dde"
      },
      "outputs": [
        {
          "data": {
            "text/plain": [
              "torch.float32"
            ]
          },
          "execution_count": 22,
          "metadata": {},
          "output_type": "execute_result"
        }
      ],
      "source": [
        "ones.dtype"
      ]
    },
    {
      "cell_type": "markdown",
      "metadata": {
        "id": "9hEE3ZwuePpV"
      },
      "source": [
        "## Creating a range of tensors and tensors like ."
      ]
    },
    {
      "cell_type": "code",
      "execution_count": 23,
      "metadata": {
        "colab": {
          "base_uri": "https://localhost:8080/"
        },
        "id": "rTnl19S1eXSY",
        "outputId": "df1d4658-14a5-4c04-db3e-f9635dd147a5"
      },
      "outputs": [
        {
          "data": {
            "text/plain": [
              "tensor([ 0,  1,  2,  3,  4,  5,  6,  7,  8,  9, 10])"
            ]
          },
          "execution_count": 23,
          "metadata": {},
          "output_type": "execute_result"
        }
      ],
      "source": [
        "one_to_ten = torch.arange(0,11)\n",
        "one_to_ten"
      ]
    },
    {
      "cell_type": "code",
      "execution_count": 24,
      "metadata": {
        "colab": {
          "base_uri": "https://localhost:8080/"
        },
        "id": "rTU6fya0ecl2",
        "outputId": "01f741eb-d0a0-40c0-cd02-a72ab5c9d0c1"
      },
      "outputs": [
        {
          "data": {
            "text/plain": [
              "tensor([3])"
            ]
          },
          "execution_count": 24,
          "metadata": {},
          "output_type": "execute_result"
        }
      ],
      "source": [
        "#creating a random int from the range given\n",
        "torch.randint(2,10, size=(1,))"
      ]
    },
    {
      "cell_type": "code",
      "execution_count": 25,
      "metadata": {
        "colab": {
          "base_uri": "https://localhost:8080/"
        },
        "id": "kmaD0E98eiOO",
        "outputId": "e4852890-fd13-46a6-dc52-6b985ce57b09"
      },
      "outputs": [
        {
          "data": {
            "text/plain": [
              "tensor([  0,  50, 100, 150, 200, 250, 300, 350, 400, 450, 500, 550, 600, 650,\n",
              "        700, 750, 800, 850, 900, 950])"
            ]
          },
          "execution_count": 25,
          "metadata": {},
          "output_type": "execute_result"
        }
      ],
      "source": [
        "random_range = torch.arange(start=0, end=1000, step=50)\n",
        "random_range"
      ]
    },
    {
      "cell_type": "code",
      "execution_count": 26,
      "metadata": {
        "colab": {
          "base_uri": "https://localhost:8080/"
        },
        "id": "3FlXBtb4fRIU",
        "outputId": "0906c8ab-102c-464d-d659-2c9e1b742784"
      },
      "outputs": [
        {
          "data": {
            "text/plain": [
              "tensor([0, 0, 0, 0, 0, 0, 0, 0, 0, 0, 0])"
            ]
          },
          "execution_count": 26,
          "metadata": {},
          "output_type": "execute_result"
        }
      ],
      "source": [
        "from re import template\n",
        "# creating tensors like\n",
        "ten_zeros = torch.zeros_like(input=one_to_ten)\n",
        "ten_zeros"
      ]
    },
    {
      "cell_type": "code",
      "execution_count": 26,
      "metadata": {
        "id": "Xs4_YaMDhsdv"
      },
      "outputs": [],
      "source": []
    },
    {
      "cell_type": "markdown",
      "metadata": {
        "id": "ov692EyGiPXF"
      },
      "source": [
        "## Tensor datatypes\n",
        "Note: tensors datatypes is one of the 3 big errors you'll run into with Pytorch & DL\n",
        "1. Tensors are not right datatypes\n",
        "2. Tensors are not right shape\n",
        "3. Tensors are not on the right device"
      ]
    },
    {
      "cell_type": "code",
      "execution_count": 27,
      "metadata": {
        "colab": {
          "base_uri": "https://localhost:8080/"
        },
        "id": "woFry0hBiS_p",
        "outputId": "6d7a343e-a040-4d78-a2c3-195a5ade1477"
      },
      "outputs": [
        {
          "data": {
            "text/plain": [
              "tensor([3., 6., 9.])"
            ]
          },
          "execution_count": 27,
          "metadata": {},
          "output_type": "execute_result"
        }
      ],
      "source": [
        "# Float 32 tensors\n",
        "float_32_tensor = torch.tensor([3.0,6.0,9.0],\n",
        "                               dtype=None,\n",
        "                               device=None,\n",
        "                               requires_grad=False)\n",
        "float_32_tensor"
      ]
    },
    {
      "cell_type": "code",
      "execution_count": 28,
      "metadata": {
        "colab": {
          "base_uri": "https://localhost:8080/"
        },
        "id": "BoCt00qnilpM",
        "outputId": "0ea8ee2e-d5e0-4b60-abf1-16baff237234"
      },
      "outputs": [
        {
          "data": {
            "text/plain": [
              "torch.float32"
            ]
          },
          "execution_count": 28,
          "metadata": {},
          "output_type": "execute_result"
        }
      ],
      "source": [
        "float_32_tensor.dtype"
      ]
    },
    {
      "cell_type": "code",
      "execution_count": 29,
      "metadata": {
        "colab": {
          "base_uri": "https://localhost:8080/"
        },
        "id": "QeS5uk2Oiwa_",
        "outputId": "e92851d1-d23a-40f1-e3c6-d84ba99020ed"
      },
      "outputs": [
        {
          "data": {
            "text/plain": [
              "tensor([3., 6., 9.], dtype=torch.float16)"
            ]
          },
          "execution_count": 29,
          "metadata": {},
          "output_type": "execute_result"
        }
      ],
      "source": [
        "float_16_tensor = float_32_tensor.type(torch.half) # half = float16\n",
        "float_16_tensor\n"
      ]
    },
    {
      "cell_type": "code",
      "execution_count": 30,
      "metadata": {
        "colab": {
          "base_uri": "https://localhost:8080/"
        },
        "id": "CCr8C0xUlnJb",
        "outputId": "cd76d08e-c703-428b-f532-63413c2b5d16"
      },
      "outputs": [
        {
          "data": {
            "text/plain": [
              "tensor([ 9., 36., 81.])"
            ]
          },
          "execution_count": 30,
          "metadata": {},
          "output_type": "execute_result"
        }
      ],
      "source": [
        "float_32_tensor * float_16_tensor"
      ]
    },
    {
      "cell_type": "code",
      "execution_count": 30,
      "metadata": {
        "id": "g2ZxVXaimh5E"
      },
      "outputs": [],
      "source": []
    },
    {
      "cell_type": "markdown",
      "metadata": {
        "id": "kp6EOivWCuYO"
      },
      "source": [
        "## Gettig infos from tensors\n",
        "1. Tensors are not right datatypes- to do get datatype from a tensor, can use `tensor.dtype`\n",
        "2. Tensors are not right shape- to get shape from a tensor, can use `tensor,shape`\n",
        "3. Tensors are not on the right device- to get device from a tensor, can use `tensor.device`"
      ]
    },
    {
      "cell_type": "code",
      "execution_count": 31,
      "metadata": {
        "colab": {
          "base_uri": "https://localhost:8080/"
        },
        "id": "oxEgdSZbDjtD",
        "outputId": "48c7ddc1-cddf-44ba-e828-b43f04ba5f7f"
      },
      "outputs": [
        {
          "data": {
            "text/plain": [
              "tensor([[0.3440, 0.6010, 0.5261, 0.5532],\n",
              "        [0.8866, 0.7941, 0.1196, 0.2168],\n",
              "        [0.0021, 0.8198, 0.9588, 0.9961]])"
            ]
          },
          "execution_count": 31,
          "metadata": {},
          "output_type": "execute_result"
        }
      ],
      "source": [
        "# create a tensor\n",
        "some_tensor = torch.rand(3,4)\n",
        "some_tensor"
      ]
    },
    {
      "cell_type": "code",
      "execution_count": 32,
      "metadata": {
        "colab": {
          "base_uri": "https://localhost:8080/"
        },
        "id": "nvdCg1e5Dmw4",
        "outputId": "efd603c6-3dc4-4fa6-e8fe-f0aa099eb31c"
      },
      "outputs": [
        {
          "name": "stdout",
          "output_type": "stream",
          "text": [
            "tensor([[0.3440, 0.6010, 0.5261, 0.5532],\n",
            "        [0.8866, 0.7941, 0.1196, 0.2168],\n",
            "        [0.0021, 0.8198, 0.9588, 0.9961]])\n",
            "Datatype of tensor: torch.float32\n",
            "Shape of tensor: torch.Size([3, 4])\n",
            "Device tensor is on: cpu\n"
          ]
        }
      ],
      "source": [
        "# Find out details abt the tensors\n",
        "print(some_tensor)\n",
        "print(f\"Datatype of tensor: {some_tensor.dtype}\")\n",
        "print(f\"Shape of tensor: {some_tensor.shape}\")\n",
        "print(f\"Device tensor is on: {some_tensor.device}\")"
      ]
    },
    {
      "cell_type": "markdown",
      "metadata": {
        "id": "nP5cd-MvEDAe"
      },
      "source": [
        " ### Manipulating tensors\n",
        " it includes :\n",
        " * addition\n",
        " * subtraction\n",
        " * multiplication(element wise)\n",
        " * division\n",
        " * matrix multiplication"
      ]
    },
    {
      "cell_type": "code",
      "execution_count": 33,
      "metadata": {
        "colab": {
          "base_uri": "https://localhost:8080/"
        },
        "id": "aEGJctySHE_Z",
        "outputId": "a638944c-b766-489a-e956-a441ef8621e4"
      },
      "outputs": [
        {
          "data": {
            "text/plain": [
              "tensor([11, 12, 13])"
            ]
          },
          "execution_count": 33,
          "metadata": {},
          "output_type": "execute_result"
        }
      ],
      "source": [
        "# create a tensor\n",
        "tensor = torch.tensor([1,2,3])\n",
        "tensor + 10"
      ]
    },
    {
      "cell_type": "code",
      "execution_count": 34,
      "metadata": {
        "colab": {
          "base_uri": "https://localhost:8080/"
        },
        "id": "P35m7JvnHpat",
        "outputId": "43e147fd-dd87-4aed-ab51-f0e0992e511a"
      },
      "outputs": [
        {
          "data": {
            "text/plain": [
              "tensor([10, 20, 30])"
            ]
          },
          "execution_count": 34,
          "metadata": {},
          "output_type": "execute_result"
        }
      ],
      "source": [
        "tensor * 10"
      ]
    },
    {
      "cell_type": "code",
      "execution_count": 35,
      "metadata": {
        "colab": {
          "base_uri": "https://localhost:8080/"
        },
        "id": "onCCPzOBH_Ev",
        "outputId": "c26056df-33a8-471f-c8c0-21bad3cd34e0"
      },
      "outputs": [
        {
          "data": {
            "text/plain": [
              "tensor([-9, -8, -7])"
            ]
          },
          "execution_count": 35,
          "metadata": {},
          "output_type": "execute_result"
        }
      ],
      "source": [
        "tensor - 10"
      ]
    },
    {
      "cell_type": "code",
      "execution_count": 36,
      "metadata": {
        "colab": {
          "base_uri": "https://localhost:8080/"
        },
        "id": "r9LHp6t5IS_E",
        "outputId": "685af79c-a845-4cd9-cd11-d5542bed6c0c"
      },
      "outputs": [
        {
          "data": {
            "text/plain": [
              "tensor([10, 20, 30])"
            ]
          },
          "execution_count": 36,
          "metadata": {},
          "output_type": "execute_result"
        }
      ],
      "source": [
        "torch.mul(tensor,10)"
      ]
    },
    {
      "cell_type": "code",
      "execution_count": 37,
      "metadata": {
        "colab": {
          "base_uri": "https://localhost:8080/"
        },
        "id": "uaU9of1cIe8e",
        "outputId": "705cf9cd-66fb-4e50-a425-912fc72658bb"
      },
      "outputs": [
        {
          "data": {
            "text/plain": [
              "tensor([11, 12, 13])"
            ]
          },
          "execution_count": 37,
          "metadata": {},
          "output_type": "execute_result"
        }
      ],
      "source": [
        "torch.add(tensor,10)"
      ]
    },
    {
      "cell_type": "markdown",
      "metadata": {
        "id": "1Jw8Hh5kIqm5"
      },
      "source": [
        "### matrix multiplication\n",
        "Two main ways of performing multiplication in neural networks and DL:\n",
        "1. Element-wise multiplication\n",
        "2. Matrix multiplication (dot product)\n",
        "There are two main rules that performing matrix multiplication needs to satisfy:\n",
        "1. The **inner dimensions** must match:\n",
        " * `(3,2) @ (3,2)` won't work\n",
        " * `(3,2) @ (2,3)` will work\n",
        "2. The resultiing matrix has the shape of the **outer dimensions**:\n",
        " * `(2,3) @ (3,2)` -> `(2,2)`"
      ]
    },
    {
      "cell_type": "code",
      "execution_count": 38,
      "metadata": {
        "colab": {
          "base_uri": "https://localhost:8080/"
        },
        "id": "kQszOY_iI5wx",
        "outputId": "3a41e6c4-a9de-40e2-a728-115a8ae5efc5"
      },
      "outputs": [
        {
          "name": "stdout",
          "output_type": "stream",
          "text": [
            "tensor([1, 2, 3]) * tensor([1, 2, 3])\n",
            "Equals: tensor([1, 4, 9])\n"
          ]
        }
      ],
      "source": [
        "# Element-wise multiplication\n",
        "print(tensor, \"*\", tensor)\n",
        "print(f\"Equals: {tensor * tensor}\")\n",
        "# we can also use tensor @ tensor"
      ]
    },
    {
      "cell_type": "code",
      "execution_count": 39,
      "metadata": {
        "colab": {
          "base_uri": "https://localhost:8080/"
        },
        "id": "GTsgFS8QKzf4",
        "outputId": "7f042d37-d489-49df-9b9c-1b0253b12435"
      },
      "outputs": [
        {
          "name": "stdout",
          "output_type": "stream",
          "text": [
            "CPU times: user 0 ns, sys: 1.4 ms, total: 1.4 ms\n",
            "Wall time: 7.99 ms\n"
          ]
        },
        {
          "data": {
            "text/plain": [
              "tensor(14)"
            ]
          },
          "execution_count": 39,
          "metadata": {},
          "output_type": "execute_result"
        }
      ],
      "source": [
        "# Matrix multiplication\n",
        "%%time\n",
        "torch.matmul(tensor, tensor)"
      ]
    },
    {
      "cell_type": "code",
      "execution_count": 40,
      "metadata": {
        "colab": {
          "base_uri": "https://localhost:8080/"
        },
        "id": "k10t86tzLKOo",
        "outputId": "099e5b0b-81f6-4741-815f-bae66f1d488e"
      },
      "outputs": [
        {
          "name": "stdout",
          "output_type": "stream",
          "text": [
            "tensor(14)\n",
            "CPU times: user 975 µs, sys: 0 ns, total: 975 µs\n",
            "Wall time: 2.51 ms\n"
          ]
        }
      ],
      "source": [
        "# manual matrix multiplication\n",
        "%%time\n",
        "value = 0\n",
        "for i in range(len(tensor)):\n",
        "  value += tensor[i] * tensor[i]\n",
        "print(value)"
      ]
    },
    {
      "cell_type": "markdown",
      "metadata": {
        "id": "i5bU1eAtLwVV"
      },
      "source": [
        "### one of the most common erros in DL: shape errors"
      ]
    },
    {
      "cell_type": "markdown",
      "metadata": {},
      "source": [
        "## Reshaping and Memory Sharing in Tensors\n",
        "Reshaping tensors is a common operation in deep learning. PyTorch provides several methods for this:\n",
        "- `reshape()` creates a new tensor with the desired shape.\n",
        "- `view()` returns a new tensor with the same data but a different shape (shares memory with the original tensor).\n",
        "- `permute()` changes the order of dimensions.\n",
        "\n",
        "**Note:** When using `view()`, changing the new tensor will also change the original tensor, since they share the same memory. This is not the case with `reshape()` if a copy is needed.\n",
        "\n",
        "Let's see some examples below."
      ]
    },
    {
      "cell_type": "code",
      "execution_count": null,
      "metadata": {},
      "outputs": [],
      "source": [
        "# Reshaping and memory sharing examples\n",
        "import torch\n",
        "x = torch.arange(12)\n",
        "reshaped = x.reshape(3, 4)\n",
        "viewed = x.view(3, 4)\n",
        "permuted = reshaped.permute(1, 0)\n",
        "print('Original:', x)\n",
        "print('Reshaped:', reshaped)\n",
        "print('Viewed:', viewed)\n",
        "print('Permuted:', permuted)\n",
        "\n",
        "# Changing viewed will change x\n",
        "viewed[0, 0] = 99\n",
        "print('After modifying viewed:')\n",
        "print('Viewed:', viewed)\n",
        "print('Original:', x)"
      ]
    },
    {
      "cell_type": "code",
      "execution_count": 41,
      "metadata": {
        "colab": {
          "base_uri": "https://localhost:8080/",
          "height": 183
        },
        "id": "strCxts1MajM",
        "outputId": "0e3e7ce6-6291-4ee6-b294-15e8b0e96c58"
      },
      "outputs": [
        {
          "ename": "RuntimeError",
          "evalue": "mat1 and mat2 shapes cannot be multiplied (3x2 and 3x2)",
          "output_type": "error",
          "traceback": [
            "\u001b[0;31m---------------------------------------------------------------------------\u001b[0m",
            "\u001b[0;31mRuntimeError\u001b[0m                              Traceback (most recent call last)",
            "\u001b[0;32m/tmp/ipython-input-41-3050823471.py\u001b[0m in \u001b[0;36m<cell line: 0>\u001b[0;34m()\u001b[0m\n\u001b[1;32m      5\u001b[0m                          \u001b[0;34m[\u001b[0m\u001b[0;36m8\u001b[0m\u001b[0;34m,\u001b[0m\u001b[0;36m11\u001b[0m\u001b[0;34m]\u001b[0m\u001b[0;34m,\u001b[0m\u001b[0;34m\u001b[0m\u001b[0;34m\u001b[0m\u001b[0m\n\u001b[1;32m      6\u001b[0m                          [9,12]])\n\u001b[0;32m----> 7\u001b[0;31m \u001b[0mtorch\u001b[0m\u001b[0;34m.\u001b[0m\u001b[0mmm\u001b[0m\u001b[0;34m(\u001b[0m\u001b[0mtensor_a\u001b[0m\u001b[0;34m,\u001b[0m \u001b[0mtensor_b\u001b[0m\u001b[0;34m)\u001b[0m\u001b[0;34m\u001b[0m\u001b[0;34m\u001b[0m\u001b[0m\n\u001b[0m",
            "\u001b[0;31mRuntimeError\u001b[0m: mat1 and mat2 shapes cannot be multiplied (3x2 and 3x2)"
          ]
        }
      ],
      "source": [
        "tensor_a = torch.tensor([[1,2],\n",
        "                         [3,4],\n",
        "                         [5,6]])\n",
        "tensor_b = torch.tensor([[7,10],\n",
        "                         [8,11],\n",
        "                         [9,12]])\n",
        "torch.mm(tensor_a, tensor_b)"
      ]
    },
    {
      "cell_type": "code",
      "execution_count": null,
      "metadata": {
        "id": "gw-WlrMRrB8A"
      },
      "outputs": [],
      "source": [
        "tensor_a.shape, tensor_b.shape"
      ]
    },
    {
      "cell_type": "markdown",
      "metadata": {
        "id": "j9TJwb0as0Sg"
      },
      "source": [
        "### to fix our tensor shape issues, we can manipulate the shape of one of our tensors using a **transpose**\n",
        "  #### A **transpose** switches the axes or dimensions of a given tensor"
      ]
    },
    {
      "cell_type": "code",
      "execution_count": 43,
      "metadata": {
        "colab": {
          "base_uri": "https://localhost:8080/"
        },
        "id": "RUB8wC38tPgn",
        "outputId": "375ac6e9-c21a-4d42-c0dc-8d7ae0dd5006"
      },
      "outputs": [
        {
          "data": {
            "text/plain": [
              "(tensor([[ 7, 10],\n",
              "         [ 8, 11],\n",
              "         [ 9, 12]]),\n",
              " torch.Size([3, 2]))"
            ]
          },
          "execution_count": 43,
          "metadata": {},
          "output_type": "execute_result"
        }
      ],
      "source": [
        "tensor_b, tensor_b.shape"
      ]
    },
    {
      "cell_type": "code",
      "execution_count": 44,
      "metadata": {
        "colab": {
          "base_uri": "https://localhost:8080/"
        },
        "id": "tJ1L2QuJM4ND",
        "outputId": "4ecbfc5c-60cc-4a1b-c161-de23009dffc1"
      },
      "outputs": [
        {
          "data": {
            "text/plain": [
              "(tensor([[ 7,  8,  9],\n",
              "         [10, 11, 12]]),\n",
              " torch.Size([2, 3]))"
            ]
          },
          "execution_count": 44,
          "metadata": {},
          "output_type": "execute_result"
        }
      ],
      "source": [
        "tensor_b.T, tensor_b.T.shape"
      ]
    },
    {
      "cell_type": "code",
      "execution_count": 45,
      "metadata": {
        "colab": {
          "base_uri": "https://localhost:8080/"
        },
        "id": "X10UosxBNXn_",
        "outputId": "b51f6d37-d7d6-4115-e0f5-826536b67804"
      },
      "outputs": [
        {
          "data": {
            "text/plain": [
              "tensor([[ 27,  30,  33],\n",
              "        [ 61,  68,  75],\n",
              "        [ 95, 106, 117]])"
            ]
          },
          "execution_count": 45,
          "metadata": {},
          "output_type": "execute_result"
        }
      ],
      "source": [
        "torch.mm(tensor_a, tensor_b.T) #the matrix multiplication now worked as we transposed the matrix b"
      ]
    },
    {
      "cell_type": "code",
      "execution_count": 47,
      "metadata": {
        "colab": {
          "base_uri": "https://localhost:8080/"
        },
        "id": "zpx_Lf-gNkNZ",
        "outputId": "96e14b20-f06f-49d3-db46-04540c623f37"
      },
      "outputs": [
        {
          "data": {
            "text/plain": [
              "torch.Size([3, 3])"
            ]
          },
          "execution_count": 47,
          "metadata": {},
          "output_type": "execute_result"
        }
      ],
      "source": [
        "torch.mm(tensor_a, tensor_b.T).shape"
      ]
    },
    {
      "cell_type": "markdown",
      "metadata": {
        "id": "LToDwHphNs88"
      },
      "source": [
        "### Finding the min,max,mean,sum etc (tensor aggregation)"
      ]
    },
    {
      "cell_type": "code",
      "execution_count": 60,
      "metadata": {
        "colab": {
          "base_uri": "https://localhost:8080/"
        },
        "id": "FMi25m2DOogZ",
        "outputId": "74decc0a-2853-4f56-bf6b-e5273c3ed863"
      },
      "outputs": [
        {
          "data": {
            "text/plain": [
              "(tensor([ 0, 10, 20, 30, 40, 50, 60, 70, 80, 90]), torch.int64)"
            ]
          },
          "execution_count": 60,
          "metadata": {},
          "output_type": "execute_result"
        }
      ],
      "source": [
        "#create a tensor\n",
        "x = torch.arange(0,100,10)\n",
        "x, x.dtype\n"
      ]
    },
    {
      "cell_type": "code",
      "execution_count": 57,
      "metadata": {
        "colab": {
          "base_uri": "https://localhost:8080/"
        },
        "id": "DbR6S8RZOxb7",
        "outputId": "1e2690d8-6ab2-4d2d-9199-b1ab26b52bd9"
      },
      "outputs": [
        {
          "data": {
            "text/plain": [
              "(tensor(0), tensor(0))"
            ]
          },
          "execution_count": 57,
          "metadata": {},
          "output_type": "execute_result"
        }
      ],
      "source": [
        "#finding the min\n",
        "torch.min(x), x.min()"
      ]
    },
    {
      "cell_type": "code",
      "execution_count": 55,
      "metadata": {
        "colab": {
          "base_uri": "https://localhost:8080/"
        },
        "id": "A42GdCY8PBqX",
        "outputId": "9a970bbe-e379-48e1-9542-55330c673915"
      },
      "outputs": [
        {
          "data": {
            "text/plain": [
              "(tensor(90), tensor(90))"
            ]
          },
          "execution_count": 55,
          "metadata": {},
          "output_type": "execute_result"
        }
      ],
      "source": [
        "# find the max\n",
        "torch.max(x), x.max()"
      ]
    },
    {
      "cell_type": "code",
      "execution_count": 62,
      "metadata": {
        "colab": {
          "base_uri": "https://localhost:8080/"
        },
        "id": "yfTVT8q0PUyo",
        "outputId": "765310d0-573c-44ad-c31f-7edb731fdbcd"
      },
      "outputs": [
        {
          "data": {
            "text/plain": [
              "(tensor(45.), tensor(45.))"
            ]
          },
          "execution_count": 62,
          "metadata": {},
          "output_type": "execute_result"
        }
      ],
      "source": [
        "#find the mean - note: the torch.mean() func requires a tensor of float32 datatype to work\n",
        "torch.mean(x.type(torch.float32)), x.type(torch.float32).mean()"
      ]
    },
    {
      "cell_type": "code",
      "execution_count": 63,
      "metadata": {
        "colab": {
          "base_uri": "https://localhost:8080/"
        },
        "id": "wAlECuW5QDTY",
        "outputId": "393575ca-8494-4334-d96d-f610e7442b95"
      },
      "outputs": [
        {
          "data": {
            "text/plain": [
              "(tensor(450), tensor(450))"
            ]
          },
          "execution_count": 63,
          "metadata": {},
          "output_type": "execute_result"
        }
      ],
      "source": [
        "# find the sum\n",
        "torch.sum(x), x.sum()"
      ]
    },
    {
      "cell_type": "markdown",
      "metadata": {
        "id": "S_q9IUktQbjb"
      },
      "source": [
        "## finding the positional min and max"
      ]
    },
    {
      "cell_type": "code",
      "execution_count": 64,
      "metadata": {
        "colab": {
          "base_uri": "https://localhost:8080/"
        },
        "id": "bAz1fASCQygj",
        "outputId": "4dbba051-10ce-4057-aa31-19421396479a"
      },
      "outputs": [
        {
          "data": {
            "text/plain": [
              "tensor([ 0, 10, 20, 30, 40, 50, 60, 70, 80, 90])"
            ]
          },
          "execution_count": 64,
          "metadata": {},
          "output_type": "execute_result"
        }
      ],
      "source": [
        "x"
      ]
    },
    {
      "cell_type": "code",
      "execution_count": 66,
      "metadata": {
        "colab": {
          "base_uri": "https://localhost:8080/"
        },
        "id": "uTOf5f3mQzjR",
        "outputId": "d75c9a7a-b769-47cb-8b25-7320cabe366a"
      },
      "outputs": [
        {
          "data": {
            "text/plain": [
              "(tensor(0), tensor(9))"
            ]
          },
          "execution_count": 66,
          "metadata": {},
          "output_type": "execute_result"
        }
      ],
      "source": [
        "x.argmin(), x.argmax()"
      ]
    },
    {
      "cell_type": "markdown",
      "metadata": {
        "id": "4pF0Tt5VQ2Kd"
      },
      "source": [
        "## Reshaping, stacing, squeezing and unsqueezing tensors\n",
        "* Reshaping - reshape an input tensor to a defined tensor\n",
        "* View - return a view of an input tensor of certain shape but keep the same memory as the original tensor  \n",
        "* stacking- combine multiple tensors on top of each other (vstack) or side by side (hstack)\n",
        "* squeeze - removes all `1` dimensions from a tensor\n",
        "* unsqueeze - add a `1` dimension to the target tensor\n",
        "* permute - return a view of the input with dimensions permuted (swapped) in a  certain way"
      ]
    },
    {
      "cell_type": "code",
      "execution_count": 67,
      "metadata": {
        "colab": {
          "base_uri": "https://localhost:8080/"
        },
        "id": "yS6ZeRMGRtju",
        "outputId": "0c22b953-2e49-418a-8ec9-8f78752a9ab0"
      },
      "outputs": [
        {
          "data": {
            "text/plain": [
              "(tensor([1., 2., 3., 4., 5., 6., 7., 8., 9.]), torch.Size([9]))"
            ]
          },
          "execution_count": 67,
          "metadata": {},
          "output_type": "execute_result"
        }
      ],
      "source": [
        "import torch\n",
        "x = torch.arange(1.,10.)\n",
        "x , x.shape"
      ]
    },
    {
      "cell_type": "code",
      "execution_count": 70,
      "metadata": {
        "colab": {
          "base_uri": "https://localhost:8080/"
        },
        "id": "QxmGkq-Ocb3I",
        "outputId": "f79d2e04-079e-4261-dee5-534cddc32af7"
      },
      "outputs": [
        {
          "data": {
            "text/plain": [
              "(tensor([[1.],\n",
              "         [2.],\n",
              "         [3.],\n",
              "         [4.],\n",
              "         [5.],\n",
              "         [6.],\n",
              "         [7.],\n",
              "         [8.],\n",
              "         [9.]]),\n",
              " torch.Size([9, 1]))"
            ]
          },
          "execution_count": 70,
          "metadata": {},
          "output_type": "execute_result"
        }
      ],
      "source": [
        "# add an extra dimension\n",
        "x_reshaped = x.reshape(9,1)\n",
        "x_reshaped, x_reshaped.shape"
      ]
    },
    {
      "cell_type": "code",
      "execution_count": 72,
      "metadata": {
        "colab": {
          "base_uri": "https://localhost:8080/"
        },
        "id": "9O1G9TYjcsyh",
        "outputId": "6a9e9d97-b0db-4704-dab6-a923384a2f10"
      },
      "outputs": [
        {
          "data": {
            "text/plain": [
              "(tensor([[1.],\n",
              "         [2.],\n",
              "         [3.],\n",
              "         [4.],\n",
              "         [5.],\n",
              "         [6.],\n",
              "         [7.],\n",
              "         [8.],\n",
              "         [9.]]),\n",
              " torch.Size([9, 1]))"
            ]
          },
          "execution_count": 72,
          "metadata": {},
          "output_type": "execute_result"
        }
      ],
      "source": [
        "# change the view\n",
        "z = x.view(9,1)\n",
        "z, z.shape"
      ]
    },
    {
      "cell_type": "code",
      "execution_count": 73,
      "metadata": {
        "colab": {
          "base_uri": "https://localhost:8080/"
        },
        "id": "U2l_c1G_fL_S",
        "outputId": "2665fca1-9f81-4a2f-833a-fc1aef5c7d29"
      },
      "outputs": [
        {
          "data": {
            "text/plain": [
              "(tensor([[5.],\n",
              "         [5.],\n",
              "         [5.],\n",
              "         [5.],\n",
              "         [5.],\n",
              "         [5.],\n",
              "         [5.],\n",
              "         [5.],\n",
              "         [5.]]),\n",
              " tensor([5., 5., 5., 5., 5., 5., 5., 5., 5.]))"
            ]
          },
          "execution_count": 73,
          "metadata": {},
          "output_type": "execute_result"
        }
      ],
      "source": [
        "# Changing z changes x as view of a tensor shares the same memory as the original input\n",
        "z[:,0] = 5\n",
        "z,x"
      ]
    },
    {
      "cell_type": "code",
      "execution_count": 77,
      "metadata": {
        "colab": {
          "base_uri": "https://localhost:8080/"
        },
        "id": "q7NjGIdygDAL",
        "outputId": "1b1d0bd2-527e-4328-b155-29f6dd502f03"
      },
      "outputs": [
        {
          "data": {
            "text/plain": [
              "tensor([[5., 5., 5., 5., 5., 5., 5., 5., 5.],\n",
              "        [5., 5., 5., 5., 5., 5., 5., 5., 5.],\n",
              "        [5., 5., 5., 5., 5., 5., 5., 5., 5.],\n",
              "        [5., 5., 5., 5., 5., 5., 5., 5., 5.]])"
            ]
          },
          "execution_count": 77,
          "metadata": {},
          "output_type": "execute_result"
        }
      ],
      "source": [
        "x_stacked = torch.stack([x,x,x,x], dim=0)\n",
        "x_stacked\n",
        "\n"
      ]
    },
    {
      "cell_type": "code",
      "execution_count": 78,
      "metadata": {
        "colab": {
          "base_uri": "https://localhost:8080/"
        },
        "id": "SzVvA6Wpg-hK",
        "outputId": "c7545bf9-d6e3-4bff-f42f-32d5776d1de7"
      },
      "outputs": [
        {
          "data": {
            "text/plain": [
              "torch.Size([9, 1])"
            ]
          },
          "execution_count": 78,
          "metadata": {},
          "output_type": "execute_result"
        }
      ],
      "source": [
        "x_reshaped.shape"
      ]
    },
    {
      "cell_type": "code",
      "execution_count": 79,
      "metadata": {
        "colab": {
          "base_uri": "https://localhost:8080/"
        },
        "id": "zBTmCheQja3R",
        "outputId": "f0492fac-460c-4e02-95a0-b1066c4a60a5"
      },
      "outputs": [
        {
          "data": {
            "text/plain": [
              "torch.Size([9])"
            ]
          },
          "execution_count": 79,
          "metadata": {},
          "output_type": "execute_result"
        }
      ],
      "source": [
        "x_reshaped.squeeze().shape"
      ]
    },
    {
      "cell_type": "code",
      "execution_count": 80,
      "metadata": {
        "colab": {
          "base_uri": "https://localhost:8080/"
        },
        "id": "T3NSEehLjiQb",
        "outputId": "1b92f1d4-d3b4-4ffa-e762-4a3fa0315e33"
      },
      "outputs": [
        {
          "name": "stdout",
          "output_type": "stream",
          "text": [
            "Previous tensor: tensor([[5.],\n",
            "        [5.],\n",
            "        [5.],\n",
            "        [5.],\n",
            "        [5.],\n",
            "        [5.],\n",
            "        [5.],\n",
            "        [5.],\n",
            "        [5.]])\n",
            "Previous shape: torch.Size([9, 1])\n",
            "\n",
            "New tensor: tensor([5., 5., 5., 5., 5., 5., 5., 5., 5.])\n",
            "New shape: torch.Size([9])\n"
          ]
        }
      ],
      "source": [
        "print(f\"Previous tensor: {x_reshaped}\")\n",
        "print(f\"Previous shape: {x_reshaped.shape}\")\n",
        "\n",
        "# Remove extra dimension from x_reshaped\n",
        "x_squeezed = x_reshaped.squeeze()\n",
        "print(f\"\\nNew tensor: {x_squeezed}\")\n",
        "print(f\"New shape: {x_squeezed.shape}\")"
      ]
    },
    {
      "cell_type": "code",
      "execution_count": 82,
      "metadata": {
        "colab": {
          "base_uri": "https://localhost:8080/"
        },
        "id": "31E59sqZjzls",
        "outputId": "36fc3e56-8228-4272-8d41-ab20dad2dfd1"
      },
      "outputs": [
        {
          "name": "stdout",
          "output_type": "stream",
          "text": [
            "Previous tensor: tensor([5., 5., 5., 5., 5., 5., 5., 5., 5.])\n",
            "Previous shape: torch.Size([9])\n",
            "\n",
            "New tensor: tensor([[5.],\n",
            "        [5.],\n",
            "        [5.],\n",
            "        [5.],\n",
            "        [5.],\n",
            "        [5.],\n",
            "        [5.],\n",
            "        [5.],\n",
            "        [5.]])\n",
            "New shape: torch.Size([9, 1])\n"
          ]
        }
      ],
      "source": [
        "# torch.unsqueezed() - adds a single dimension to a target tensor at a specific dim\n",
        "print(f\"Previous tensor: {x_squeezed}\")\n",
        "print(f\"Previous shape: {x_squeezed.shape}\")\n",
        "#add an extra dimension with unsqueezed\n",
        "x_unsqueezed = x_squeezed.unsqueeze(dim=1)\n",
        "print(f\"\\nNew tensor: {x_unsqueezed}\")\n",
        "print(f\"New shape: {x_unsqueezed.shape}\")"
      ]
    },
    {
      "cell_type": "code",
      "execution_count": 83,
      "metadata": {
        "colab": {
          "base_uri": "https://localhost:8080/"
        },
        "id": "qpaLrvaGk2oJ",
        "outputId": "54df3f6b-4167-4839-8cdb-3f99a22568fc"
      },
      "outputs": [
        {
          "name": "stdout",
          "output_type": "stream",
          "text": [
            "Previous shape: torch.Size([224, 224, 3])\n",
            "New shape: torch.Size([3, 224, 224])\n"
          ]
        }
      ],
      "source": [
        "# torch.permute - rearranges the dimensions of a target tensor in a specified order\n",
        "x_original = torch.rand(size=(224,224,3)) # [height, width, color_channels]\n",
        "# permute the original tensor to rearrange the axis (or dim) order\n",
        "x_permuted = x_original.permute(2,0,1) # shifts axis 0->1, 1->2, 2->0\n",
        "print(f\"Previous shape: {x_original.shape}\")\n",
        "print(f\"New shape: {x_permuted.shape}\")"
      ]
    },
    {
      "cell_type": "code",
      "execution_count": 85,
      "metadata": {
        "colab": {
          "base_uri": "https://localhost:8080/"
        },
        "id": "H3c0bLrOnlhw",
        "outputId": "429d4ec4-0505-452b-86e6-7f226208c133"
      },
      "outputs": [
        {
          "data": {
            "text/plain": [
              "(tensor(728218.), tensor(728218.))"
            ]
          },
          "execution_count": 85,
          "metadata": {},
          "output_type": "execute_result"
        }
      ],
      "source": [
        "x_original[0,0,0] = 728218\n",
        "x_original[0,0,0], x_permuted[0,0,0]"
      ]
    },
    {
      "cell_type": "markdown",
      "metadata": {
        "id": "VG-8Xf0_oSG-"
      },
      "source": [
        "## indexing (selecting data from tensors )\n",
        "Indexing with pytorch is similar to indexing with numpy"
      ]
    },
    {
      "cell_type": "code",
      "execution_count": 87,
      "metadata": {
        "colab": {
          "base_uri": "https://localhost:8080/"
        },
        "id": "luixcq_Mo9aH",
        "outputId": "3d2e0bfb-23c0-416d-b03e-3fe69445ae3d"
      },
      "outputs": [
        {
          "data": {
            "text/plain": [
              "(tensor([[[1, 2, 3],\n",
              "          [4, 5, 6],\n",
              "          [7, 8, 9]]]),\n",
              " torch.Size([1, 3, 3]))"
            ]
          },
          "execution_count": 87,
          "metadata": {},
          "output_type": "execute_result"
        }
      ],
      "source": [
        "#create tensor\n",
        "import torch\n",
        "x = torch.arange(1,10).reshape(1,3,3)\n",
        "x, x.shape"
      ]
    },
    {
      "cell_type": "code",
      "execution_count": 88,
      "metadata": {
        "colab": {
          "base_uri": "https://localhost:8080/"
        },
        "id": "xJ3NYl1zpdXV",
        "outputId": "2428eecc-6025-4681-be6f-91d10ac55e0c"
      },
      "outputs": [
        {
          "data": {
            "text/plain": [
              "tensor([[1, 2, 3],\n",
              "        [4, 5, 6],\n",
              "        [7, 8, 9]])"
            ]
          },
          "execution_count": 88,
          "metadata": {},
          "output_type": "execute_result"
        }
      ],
      "source": [
        "x[0]"
      ]
    },
    {
      "cell_type": "code",
      "execution_count": 91,
      "metadata": {
        "colab": {
          "base_uri": "https://localhost:8080/"
        },
        "id": "mYEh0h6PpmdQ",
        "outputId": "b71c655e-1fa6-41ae-b59e-18cd2996932b"
      },
      "outputs": [
        {
          "data": {
            "text/plain": [
              "tensor([4, 5, 6])"
            ]
          },
          "execution_count": 91,
          "metadata": {},
          "output_type": "execute_result"
        }
      ],
      "source": [
        "x[0][1]"
      ]
    },
    {
      "cell_type": "code",
      "execution_count": 92,
      "metadata": {
        "colab": {
          "base_uri": "https://localhost:8080/"
        },
        "id": "dPu6t_Aqpp7T",
        "outputId": "24e1cc84-e9b8-43d4-a367-fa327ddddbbe"
      },
      "outputs": [
        {
          "data": {
            "text/plain": [
              "tensor(1)"
            ]
          },
          "execution_count": 92,
          "metadata": {},
          "output_type": "execute_result"
        }
      ],
      "source": [
        "x[0][0][0]"
      ]
    },
    {
      "cell_type": "code",
      "execution_count": 99,
      "metadata": {
        "colab": {
          "base_uri": "https://localhost:8080/"
        },
        "id": "sJv_e_xCp11D",
        "outputId": "cbfed060-3282-4038-f015-c14058197ab0"
      },
      "outputs": [
        {
          "data": {
            "text/plain": [
              "tensor([[2, 5, 8]])"
            ]
          },
          "execution_count": 99,
          "metadata": {},
          "output_type": "execute_result"
        }
      ],
      "source": [
        "# you can also use \":\" to select \"all\" of the target dimension\n",
        "x[0,0,:]\n",
        "x[:,:,1]"
      ]
    },
    {
      "cell_type": "markdown",
      "metadata": {
        "id": "7GgV6Ae1qPEO"
      },
      "source": [
        "## PyTorch tensors & NumPy\n",
        "NumPy is a popular scientific Python numerical computing library\n",
        "And because of this, PyTorch has functionality to interact with it.\n",
        "* Data in NumPy, want in PyTorch tensor -> `torch.from_numpy(ndarray)`\n",
        "* PyTorch tensor -> NumPy -> `torch.Tensor.numpy()`"
      ]
    },
    {
      "cell_type": "markdown",
      "metadata": {},
      "source": [
        "## Managing Tensor Devices: CPU and GPU\n",
        "PyTorch tensors can be moved between CPU and GPU to take advantage of hardware acceleration. This is important for speeding up computations, especially with large datasets.\n",
        "\n",
        "- Use `.to('cuda')` or `.cuda()` to move a tensor to the GPU (if available).\n",
        "- Use `.to('cpu')` or `.cpu()` to move a tensor back to the CPU.\n",
        "- You can check the device of a tensor with `.device`.\n",
        "- Always ensure your tensors are on the same device before performing operations on them.\n",
        "\n",
        "Let's see an example:"
      ]
    },
    {
      "cell_type": "code",
      "execution_count": null,
      "metadata": {},
      "outputs": [],
      "source": [
        "# Device management example\n",
        "import torch\n",
        "tensor = torch.arange(5)\n",
        "print('Default device:', tensor.device)\n",
        "if torch.cuda.is_available():\n",
        "    tensor_gpu = tensor.to('cuda')\n",
        "    print('Tensor on GPU:', tensor_gpu)\n",
        "    tensor_cpu = tensor_gpu.to('cpu')\n",
        "    print('Tensor moved back to CPU:', tensor_cpu)\n",
        "else:\n",
        "    print('CUDA is not available on this system.')"
      ]
    },
    {
      "cell_type": "code",
      "execution_count": 101,
      "metadata": {
        "colab": {
          "base_uri": "https://localhost:8080/"
        },
        "id": "8PRi9lACvTbb",
        "outputId": "d32ae788-d99e-49f6-fe67-2daec7288610"
      },
      "outputs": [
        {
          "data": {
            "text/plain": [
              "(array([1., 2., 3., 4., 5., 6., 7.]),\n",
              " tensor([1., 2., 3., 4., 5., 6., 7.], dtype=torch.float64))"
            ]
          },
          "execution_count": 101,
          "metadata": {},
          "output_type": "execute_result"
        }
      ],
      "source": [
        "# NumPy array to tensor\n",
        "import torch\n",
        "import numpy as np\n",
        "\n",
        "array = np.arange(1.0,8.0)\n",
        "tensor = torch.from_numpy(array)\n",
        "array, tensor"
      ]
    },
    {
      "cell_type": "code",
      "execution_count": 102,
      "metadata": {
        "colab": {
          "base_uri": "https://localhost:8080/"
        },
        "id": "7Uk4em9cwDO7",
        "outputId": "652eb826-411b-47ef-89f6-d1c2beb3a378"
      },
      "outputs": [
        {
          "data": {
            "text/plain": [
              "dtype('float64')"
            ]
          },
          "execution_count": 102,
          "metadata": {},
          "output_type": "execute_result"
        }
      ],
      "source": [
        "array.dtype"
      ]
    },
    {
      "cell_type": "code",
      "execution_count": 103,
      "metadata": {
        "colab": {
          "base_uri": "https://localhost:8080/"
        },
        "id": "tCJFLNONw2sL",
        "outputId": "fe11c947-35ae-473d-8589-bfbbdf803956"
      },
      "outputs": [
        {
          "data": {
            "text/plain": [
              "torch.float64"
            ]
          },
          "execution_count": 103,
          "metadata": {},
          "output_type": "execute_result"
        }
      ],
      "source": [
        "tensor.dtype"
      ]
    },
    {
      "cell_type": "code",
      "execution_count": 106,
      "metadata": {
        "colab": {
          "base_uri": "https://localhost:8080/"
        },
        "id": "y4Kqy3iaw5BQ",
        "outputId": "a4a7b15f-b05b-49c9-8b35-fd01170d3d0b"
      },
      "outputs": [
        {
          "data": {
            "text/plain": [
              "torch.float32"
            ]
          },
          "execution_count": 106,
          "metadata": {},
          "output_type": "execute_result"
        }
      ],
      "source": [
        "torch.arange(1.0,8.0).dtype"
      ]
    },
    {
      "cell_type": "code",
      "execution_count": 107,
      "metadata": {
        "colab": {
          "base_uri": "https://localhost:8080/"
        },
        "id": "VGrtVACSxeoa",
        "outputId": "5adde025-46e0-4612-d38c-6cb52b32b635"
      },
      "outputs": [
        {
          "data": {
            "text/plain": [
              "(array([2., 3., 4., 5., 6., 7., 8.]),\n",
              " tensor([1., 2., 3., 4., 5., 6., 7.], dtype=torch.float64))"
            ]
          },
          "execution_count": 107,
          "metadata": {},
          "output_type": "execute_result"
        }
      ],
      "source": [
        "array = array+1\n",
        "array, tensor"
      ]
    },
    {
      "cell_type": "code",
      "execution_count": 113,
      "metadata": {
        "colab": {
          "base_uri": "https://localhost:8080/"
        },
        "id": "RzKCkPgcyh3l",
        "outputId": "cabe6d1f-7b3f-4253-d97f-4193ce94054d"
      },
      "outputs": [
        {
          "data": {
            "text/plain": [
              "(tensor([1., 1., 1., 1., 1., 1., 1.]),\n",
              " array([1., 1., 1., 1., 1., 1., 1.], dtype=float32))"
            ]
          },
          "execution_count": 113,
          "metadata": {},
          "output_type": "execute_result"
        }
      ],
      "source": [
        "a = torch.ones(7)\n",
        "numpy_tensor = a.numpy()\n",
        "a, numpy_tensor"
      ]
    },
    {
      "cell_type": "code",
      "execution_count": 114,
      "metadata": {
        "colab": {
          "base_uri": "https://localhost:8080/"
        },
        "id": "Gr60yBb0z7qw",
        "outputId": "6c6064f1-0c48-424d-f0f1-a5c68b2af380"
      },
      "outputs": [
        {
          "data": {
            "text/plain": [
              "(tensor([2., 2., 2., 2., 2., 2., 2.]),\n",
              " array([1., 1., 1., 1., 1., 1., 1.], dtype=float32))"
            ]
          },
          "execution_count": 114,
          "metadata": {},
          "output_type": "execute_result"
        }
      ],
      "source": [
        "a= a+1\n",
        "a, numpy_tensor"
      ]
    },
    {
      "cell_type": "markdown",
      "metadata": {
        "id": "DPSBjKRr2jTd"
      },
      "source": [
        "## Reproducebility (trying to take random out of random)\n",
        "In short how a neural network learns:\n",
        "`start with random numbers -> tensor operations -> update random numbers to try and make them better representations of the data -> again -> again -> again...`\n",
        "Tp reduce the randomness in nn and pytorch comes the concept of a **random seed**\n",
        "Essentially what the random seed does is \"flavour\" the randomness\n"
      ]
    },
    {
      "cell_type": "code",
      "execution_count": 118,
      "metadata": {
        "colab": {
          "base_uri": "https://localhost:8080/"
        },
        "id": "ikMFaec13jdz",
        "outputId": "0bde1da7-bb97-4c33-d298-9cf43a425e3d"
      },
      "outputs": [
        {
          "name": "stdout",
          "output_type": "stream",
          "text": [
            "tensor([[0.1882, 0.4611, 0.4152, 0.1993],\n",
            "        [0.5987, 0.6865, 0.9251, 0.9654],\n",
            "        [0.5126, 0.7397, 0.3393, 0.5842]])\n",
            "tensor([[0.9364, 0.4155, 0.0566, 0.1739],\n",
            "        [0.7020, 0.5584, 0.5150, 0.4178],\n",
            "        [0.2873, 0.8282, 0.4137, 0.8858]])\n",
            "tensor([[False, False, False, False],\n",
            "        [False, False, False, False],\n",
            "        [False, False, False, False]])\n"
          ]
        }
      ],
      "source": [
        "import torch\n",
        "#create two random tensors\n",
        "random_tensor_A = torch.rand(3,4)\n",
        "random_tensor_B = torch.rand(3,4)\n",
        "print(random_tensor_A)\n",
        "print(random_tensor_B)\n",
        "print(random_tensor_A == random_tensor_B)\n"
      ]
    },
    {
      "cell_type": "code",
      "execution_count": 120,
      "metadata": {
        "colab": {
          "base_uri": "https://localhost:8080/"
        },
        "id": "1OgFt4Qq4IVV",
        "outputId": "ad870dff-5fd7-44fc-e8d7-bbccf8f613cd"
      },
      "outputs": [
        {
          "name": "stdout",
          "output_type": "stream",
          "text": [
            "tensor([[0.8823, 0.9150, 0.3829, 0.9593],\n",
            "        [0.3904, 0.6009, 0.2566, 0.7936],\n",
            "        [0.9408, 0.1332, 0.9346, 0.5936]])\n",
            "tensor([[0.8823, 0.9150, 0.3829, 0.9593],\n",
            "        [0.3904, 0.6009, 0.2566, 0.7936],\n",
            "        [0.9408, 0.1332, 0.9346, 0.5936]])\n",
            "tensor([[True, True, True, True],\n",
            "        [True, True, True, True],\n",
            "        [True, True, True, True]])\n"
          ]
        }
      ],
      "source": [
        "# make some random but reproducible tensors using random seed\n",
        "# https://en.wikipedia.org/wiki/Random_seed\n",
        "import torch\n",
        "\n",
        "RANDOM_SEED = 42\n",
        "torch.manual_seed(RANDOM_SEED)\n",
        "random_tensor_C = torch.rand(3,4)\n",
        "\n",
        "torch.manual_seed(RANDOM_SEED)\n",
        "random_tensor_D = torch.rand(3,4)\n",
        "\n",
        "print(random_tensor_C)\n",
        "print(random_tensor_D)\n",
        "print(random_tensor_C == random_tensor_D)"
      ]
    },
    {
      "cell_type": "markdown",
      "metadata": {
        "id": "rXxNP_EE8Ucx"
      },
      "source": [
        "## using gpus for tensors/models\n"
      ]
    },
    {
      "cell_type": "code",
      "execution_count": 124,
      "metadata": {
        "colab": {
          "base_uri": "https://localhost:8080/"
        },
        "id": "AfpOJtIg7orW",
        "outputId": "f7aa70cd-23c9-4fa1-f861-a4b06a715e13"
      },
      "outputs": [
        {
          "name": "stdout",
          "output_type": "stream",
          "text": [
            "tensor([1, 2, 3]) cpu\n"
          ]
        }
      ],
      "source": [
        "import torch\n",
        "device = \"cuda\" if torch.cuda.is_available() else \"cpu\"\n",
        "device\n",
        "tensor= torch.tensor([1,2,3])\n",
        "print(tensor, tensor.device)"
      ]
    },
    {
      "cell_type": "code",
      "execution_count": 126,
      "metadata": {
        "colab": {
          "base_uri": "https://localhost:8080/"
        },
        "id": "_cvBNe2Q8wKh",
        "outputId": "1b9dcdf3-a144-4f87-e277-dc2469c3a842"
      },
      "outputs": [
        {
          "name": "stdout",
          "output_type": "stream",
          "text": [
            "/bin/bash: line 1: nvidia-smi: command not found\n"
          ]
        }
      ],
      "source": [
        "!nvidia-smi"
      ]
    }
  ],
  "metadata": {
    "accelerator": "GPU",
    "colab": {
      "gpuType": "T4",
      "provenance": []
    },
    "kernelspec": {
      "display_name": "Python 3",
      "name": "python3"
    },
    "language_info": {
      "name": "python"
    }
  },
  "nbformat": 4,
  "nbformat_minor": 0
}
